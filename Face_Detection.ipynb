{
 "nbformat": 4,
 "nbformat_minor": 2,
 "metadata": {
  "language_info": {
   "name": "python",
   "codemirror_mode": {
    "name": "ipython",
    "version": 3
   },
   "version": "3.8.1-final"
  },
  "orig_nbformat": 2,
  "file_extension": ".py",
  "mimetype": "text/x-python",
  "name": "python",
  "npconvert_exporter": "python",
  "pygments_lexer": "ipython3",
  "version": 3,
  "kernelspec": {
   "name": "python38164bit64ff8a274fa54b76bc343ab19bab2a71",
   "display_name": "Python 3.8.1 64-bit"
  }
 },
 "cells": [
  {
   "cell_type": "code",
   "execution_count": 176,
   "metadata": {},
   "outputs": [],
   "source": [
    "%matplotlib inline\n",
    "import cv2\n",
    "import numpy as np\n",
    "import matplotlib.pyplot as plt\n",
    "from imutils import face_utils"
   ]
  },
  {
   "cell_type": "code",
   "execution_count": 177,
   "metadata": {},
   "outputs": [],
   "source": [
    "font = cv2.FONT_HERSHEY_SIMPLEX\n",
    "faceCascade = cv2.CascadeClassifier('haarcascade_frontalface_default.xml')"
   ]
  },
  {
   "cell_type": "code",
   "execution_count": 178,
   "metadata": {},
   "outputs": [],
   "source": [
    "test_image = np.empty(5, dtype=object)\n",
    "for i in range(5):\n",
    "    image = cv2.imread(f'test_image\\{i+1}.png', cv2.IMREAD_UNCHANGED)\n",
    "    test_image[i] = cv2.cvtColor(image, cv2.COLOR_BGR2RGB)"
   ]
  },
  {
   "cell_type": "code",
   "execution_count": 179,
   "metadata": {},
   "outputs": [],
   "source": [
    "for i in range(5):\n",
    "    faces = faceCascade.detectMultiScale(\n",
    "    test_image[i],\n",
    "    scaleFactor=1.1,\n",
    "    minNeighbors=5,\n",
    "    flags=cv2.CASCADE_SCALE_IMAGE\n",
    "    )\n",
    "    # For each face\n",
    "    for (x, y, w, h) in faces: \n",
    "        # Draw rectangle around the face\n",
    "        cv2.rectangle(test_image[i], (x, y), (x+w, y+h), (255, 255, 255), 3)\n",
    "\n",
    "for i in range(5):\n",
    "    test_image[i] = cv2.cvtColor(test_image[i], cv2.COLOR_BGR2RGB)\n",
    "    cv2.imwrite(f'final_image\\{i+1}.png',test_image[i])"
   ]
  },
  {
   "cell_type": "code",
   "execution_count": null,
   "metadata": {},
   "outputs": [],
   "source": []
  }
 ]
}